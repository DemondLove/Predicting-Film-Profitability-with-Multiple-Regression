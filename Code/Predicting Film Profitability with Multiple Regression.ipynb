{
 "cells": [
  {
   "cell_type": "markdown",
   "metadata": {},
   "source": [
    "**Statistical Question:**\n",
    "\n",
    "The central statistical question that I am exploring is if it is possible to predict the profitability of a film, with a high degree of certainty, using multiple regression?\n",
    "\n",
    "I hypothesize that we will be able to create a strong, yet incomplete model from the data in the Kaggle TMDB 5000 Movie dataset."
   ]
  },
  {
   "cell_type": "code",
   "execution_count": 407,
   "metadata": {},
   "outputs": [
    {
     "data": {
      "text/plain": [
       "Index(['budget', 'genres', 'homepage', 'id', 'keywords', 'original_language',\n",
       "       'original_title', 'overview', 'popularity', 'production_companies',\n",
       "       'production_countries', 'release_date', 'revenue', 'runtime',\n",
       "       'spoken_languages', 'status', 'tagline', 'title', 'vote_average',\n",
       "       'vote_count'],\n",
       "      dtype='object')"
      ]
     },
     "execution_count": 407,
     "metadata": {},
     "output_type": "execute_result"
    }
   ],
   "source": [
    "import pandas as pd\n",
    "import numpy as np\n",
    "import thinkstats2\n",
    "import thinkplot\n",
    "import matplotlib\n",
    "import matplotlib.pyplot as plt\n",
    "import statistics\n",
    "import statsmodels.formula.api as smf\n",
    "\n",
    "df = pd.read_csv('/Users/Love/Documents/Projects/tmdb-5000-movie-dataset/tmdb_5000_movies.csv')\n",
    "df.columns"
   ]
  },
  {
   "cell_type": "markdown",
   "metadata": {},
   "source": [
    "**Variables:**\n",
    "    \n",
    "1. Budget: Estimated budgets of each film, in USD.\n",
    "2. Genres: Film categories that each film, and there can be multiple genres for each film.\n",
    "3. Homepage: This is the website URL setup to provide information on the film.\n",
    "4. ID: Unique identifier for each film.\n",
    "5. Keywords: User-definied keywords that relate to the film and it's subject matter.\n",
    "6. Original_language: Language the film was first recorded in.\n",
    "7. Original_title: Title given to a film during it's production and may different from the final title seen on it's release.\n",
    "8. Overview: This is a synopsis of the film.\n",
    "9. Popularity: This is an aggregate value of the number of times this page was visited on TheMovieDatabase.com.\n",
    "10. Production_companies: Companies responsible for the financing, releasing, and production of the film.\n",
    "11. Production_countries: Countries the film was recorded in during production.\n",
    "12. Release_date: Date the film had it's theatrical release.\n",
    "13. Revenue: Amount of money grossed at the boxoffice for the film.\n",
    "14. Runtime: Length of time the film runs.\n",
    "15. Spoken_languages: Languages that the film was recorded in, plus any it was translated to for distribution.\n",
    "16. Status: This is the production status; it is either released, post-production, or rumored.\n",
    "17. Tagline: This is the marketing slogan given to the film.\n",
    "18. Title: This is the name the film had upon it's release.\n",
    "19. Vote_average: This is the average rating given to each film, on a scale of 1 - 10.\n",
    "20. Vote_count: This is the number of votes cast for each film in the vote_average variable."
   ]
  },
  {
   "cell_type": "markdown",
   "metadata": {},
   "source": [
    "**Five Analysis Variables:**\n",
    "\n",
    "The five variables that I have chosen to explore are film's budget, the revenue, the runtime, the vote_average, and another variable that will need to be added, which is profit.\n",
    "\n",
    "A film's budget is extremely important, since I hypothesize that for audiences to feel a movie is worth seeing in the theater, that it must be a large-scale film with explosions and special effects; both of which significantly drive up a film's budget.\n",
    "\n",
    "A film's revenue is an important metric to consider, since it represents how much money a film pulled in at the box office.\n",
    "\n",
    "A film's runtime is one that could be important for the same reason as a budget. I hypothesize that for audiences to feel a movie is worth seeing in the theater, that it must be a longer film, so feel as if they are getting their money's worth on entertainment.\n",
    "\n",
    "A film's vote_average is important because it is a measure of the film's quality; how much audiences enjoyed the film after seeing it. Although this will not drive up opening weekend numbers, it will drive word-of-mouth. I hypothesize that the higher a movie's quality, then the more money it will make.\n",
    "\n",
    "Lastly, is the metric that will be used to measure a film's success; it's profit. This is a variable that I will need to create by subtracting revenue from budget."
   ]
  },
  {
   "cell_type": "markdown",
   "metadata": {},
   "source": [
    "**Data Cleaning**"
   ]
  },
  {
   "cell_type": "markdown",
   "metadata": {},
   "source": [
    "I can remove Post Production and Rumored data. Only Released files are able to allow us to do the analysis we need."
   ]
  },
  {
   "cell_type": "code",
   "execution_count": 408,
   "metadata": {},
   "outputs": [
    {
     "data": {
      "text/plain": [
       "4803"
      ]
     },
     "execution_count": 408,
     "metadata": {},
     "output_type": "execute_result"
    }
   ],
   "source": [
    "len(df)"
   ]
  },
  {
   "cell_type": "code",
   "execution_count": 409,
   "metadata": {},
   "outputs": [
    {
     "data": {
      "text/plain": [
       "4795"
      ]
     },
     "execution_count": 409,
     "metadata": {},
     "output_type": "execute_result"
    }
   ],
   "source": [
    "df1 = df[df.status == 'Released']\n",
    "len(df1)"
   ]
  },
  {
   "cell_type": "markdown",
   "metadata": {},
   "source": [
    "This removed 8 erroneous records.\n",
    "\n",
    "Next, in order to see accurate user vote analysis, we only need data with vote_average records. So, I can remove records without at least 30 rows of data."
   ]
  },
  {
   "cell_type": "code",
   "execution_count": 410,
   "metadata": {},
   "outputs": [
    {
     "data": {
      "text/plain": [
       "3946"
      ]
     },
     "execution_count": 410,
     "metadata": {},
     "output_type": "execute_result"
    }
   ],
   "source": [
    "df2 = df1[df1.vote_count >= 30]\n",
    "len(df2)"
   ]
  },
  {
   "cell_type": "markdown",
   "metadata": {},
   "source": [
    "Next, in order to see accurate revenue analysis, we only need films with revenue data associated to them. So, I can remove records without revenue data."
   ]
  },
  {
   "cell_type": "code",
   "execution_count": 411,
   "metadata": {},
   "outputs": [
    {
     "data": {
      "text/plain": [
       "3183"
      ]
     },
     "execution_count": 411,
     "metadata": {},
     "output_type": "execute_result"
    }
   ],
   "source": [
    "df3 = df2[df2.revenue >= 1]\n",
    "len(df3)"
   ]
  },
  {
   "cell_type": "markdown",
   "metadata": {},
   "source": [
    "Next, in order to see accurate budget analysis, we only need data with budget records. So, I can remove records without budget data."
   ]
  },
  {
   "cell_type": "code",
   "execution_count": 412,
   "metadata": {},
   "outputs": [
    {
     "data": {
      "text/plain": [
       "3063"
      ]
     },
     "execution_count": 412,
     "metadata": {},
     "output_type": "execute_result"
    }
   ],
   "source": [
    "df4 = df3[df3.budget >= 1]\n",
    "len(df4)"
   ]
  },
  {
   "cell_type": "markdown",
   "metadata": {},
   "source": [
    "Next, I will look for NAs."
   ]
  },
  {
   "cell_type": "code",
   "execution_count": 413,
   "metadata": {},
   "outputs": [
    {
     "data": {
      "text/plain": [
       "budget                  False\n",
       "genres                  False\n",
       "homepage                 True\n",
       "id                      False\n",
       "keywords                False\n",
       "original_language       False\n",
       "original_title          False\n",
       "overview                False\n",
       "popularity              False\n",
       "production_companies    False\n",
       "production_countries    False\n",
       "release_date            False\n",
       "revenue                 False\n",
       "runtime                 False\n",
       "spoken_languages        False\n",
       "status                  False\n",
       "tagline                  True\n",
       "title                   False\n",
       "vote_average            False\n",
       "vote_count              False\n",
       "dtype: bool"
      ]
     },
     "execution_count": 413,
     "metadata": {},
     "output_type": "execute_result"
    }
   ],
   "source": [
    "df4.isnull().any()"
   ]
  },
  {
   "cell_type": "markdown",
   "metadata": {},
   "source": [
    "Remove all unneeded columns from the dataframe"
   ]
  },
  {
   "cell_type": "code",
   "execution_count": 414,
   "metadata": {},
   "outputs": [],
   "source": [
    "filmsdata = pd.DataFrame(df4, columns = ['title', 'budget', 'revenue', 'runtime', 'vote_average'])"
   ]
  },
  {
   "cell_type": "markdown",
   "metadata": {},
   "source": [
    "Create my new calculated column for profit"
   ]
  },
  {
   "cell_type": "code",
   "execution_count": 415,
   "metadata": {},
   "outputs": [],
   "source": [
    "filmsdata['profit'] = filmsdata.revenue - filmsdata.budget"
   ]
  },
  {
   "cell_type": "code",
   "execution_count": 416,
   "metadata": {},
   "outputs": [
    {
     "data": {
      "text/plain": [
       "3063"
      ]
     },
     "execution_count": 416,
     "metadata": {},
     "output_type": "execute_result"
    }
   ],
   "source": [
    "len(filmsdata)"
   ]
  },
  {
   "cell_type": "code",
   "execution_count": 417,
   "metadata": {},
   "outputs": [
    {
     "data": {
      "text/plain": [
       "(array([733., 607., 496., 259., 212., 213., 134.,  87.,  56.,  32.,  53.,\n",
       "         28.,  50.,  18.,  23.,  13.,  22.,   4.,   5.,   1.,   1.,  12.,\n",
       "          1.,   1.,   0.,   1.,   0.,   0.,   0.,   0.,   0.,   1.]),\n",
       " array([1.00000000e+00, 1.18750010e+07, 2.37500009e+07, 3.56250009e+07,\n",
       "        4.75000009e+07, 5.93750008e+07, 7.12500008e+07, 8.31250008e+07,\n",
       "        9.50000008e+07, 1.06875001e+08, 1.18750001e+08, 1.30625001e+08,\n",
       "        1.42500001e+08, 1.54375001e+08, 1.66250001e+08, 1.78125001e+08,\n",
       "        1.90000000e+08, 2.01875000e+08, 2.13750000e+08, 2.25625000e+08,\n",
       "        2.37500000e+08, 2.49375000e+08, 2.61250000e+08, 2.73125000e+08,\n",
       "        2.85000000e+08, 2.96875000e+08, 3.08750000e+08, 3.20625000e+08,\n",
       "        3.32500000e+08, 3.44375000e+08, 3.56250000e+08, 3.68125000e+08,\n",
       "        3.80000000e+08]),\n",
       " <a list of 32 Patch objects>)"
      ]
     },
     "execution_count": 417,
     "metadata": {},
     "output_type": "execute_result"
    },
    {
     "data": {
      "image/png": "[encoded data removed]",
      "text/plain": [
       "<matplotlib.figure.Figure at 0x1a229b65f8>"
      ]
     },
     "metadata": {},
     "output_type": "display_data"
    }
   ],
   "source": [
    "plt.hist(filmsdata.budget, bins=32)"
   ]
  },
  {
   "cell_type": "code",
   "execution_count": 418,
   "metadata": {},
   "outputs": [
    {
     "data": {
      "text/plain": [
       "(array([1.819e+03, 5.930e+02, 2.450e+02, 1.330e+02, 8.800e+01, 4.700e+01,\n",
       "        3.500e+01, 2.300e+01, 2.400e+01, 1.300e+01, 1.700e+01, 8.000e+00,\n",
       "        8.000e+00, 3.000e+00, 1.000e+00, 0.000e+00, 1.000e+00, 3.000e+00,\n",
       "        0.000e+00, 0.000e+00, 0.000e+00, 1.000e+00, 0.000e+00, 0.000e+00,\n",
       "        0.000e+00, 0.000e+00, 0.000e+00, 0.000e+00, 0.000e+00, 0.000e+00,\n",
       "        0.000e+00, 1.000e+00]),\n",
       " array([5.00000000e+00, 8.71239138e+07, 1.74247823e+08, 2.61371731e+08,\n",
       "        3.48495640e+08, 4.35619549e+08, 5.22743458e+08, 6.09867367e+08,\n",
       "        6.96991276e+08, 7.84115184e+08, 8.71239093e+08, 9.58363002e+08,\n",
       "        1.04548691e+09, 1.13261082e+09, 1.21973473e+09, 1.30685864e+09,\n",
       "        1.39398255e+09, 1.48110645e+09, 1.56823036e+09, 1.65535427e+09,\n",
       "        1.74247818e+09, 1.82960209e+09, 1.91672600e+09, 2.00384991e+09,\n",
       "        2.09097382e+09, 2.17809773e+09, 2.26522163e+09, 2.35234554e+09,\n",
       "        2.43946945e+09, 2.52659336e+09, 2.61371727e+09, 2.70084118e+09,\n",
       "        2.78796509e+09]),\n",
       " <a list of 32 Patch objects>)"
      ]
     },
     "execution_count": 418,
     "metadata": {},
     "output_type": "execute_result"
    },
    {
     "data": {
      "image/png": "[encoded data removed]",
      "text/plain": [
       "<matplotlib.figure.Figure at 0x1a1e6740b8>"
      ]
     },
     "metadata": {},
     "output_type": "display_data"
    }
   ],
   "source": [
    "plt.hist(filmsdata.revenue, bins=32)"
   ]
  },
  {
   "cell_type": "code",
   "execution_count": 419,
   "metadata": {},
   "outputs": [
    {
     "data": {
      "text/plain": [
       "(array([  3.,  32., 216., 581., 578., 547., 429., 266., 172.,  83.,  56.,\n",
       "         34.,  19.,  16.,  10.,  11.,   3.,   2.,   2.,   0.,   1.,   1.,\n",
       "          0.,   0.,   0.,   0.,   0.,   0.,   0.,   0.,   0.,   1.]),\n",
       " array([ 63.     ,  71.59375,  80.1875 ,  88.78125,  97.375  , 105.96875,\n",
       "        114.5625 , 123.15625, 131.75   , 140.34375, 148.9375 , 157.53125,\n",
       "        166.125  , 174.71875, 183.3125 , 191.90625, 200.5    , 209.09375,\n",
       "        217.6875 , 226.28125, 234.875  , 243.46875, 252.0625 , 260.65625,\n",
       "        269.25   , 277.84375, 286.4375 , 295.03125, 303.625  , 312.21875,\n",
       "        320.8125 , 329.40625, 338.     ]),\n",
       " <a list of 32 Patch objects>)"
      ]
     },
     "execution_count": 419,
     "metadata": {},
     "output_type": "execute_result"
    },
    {
     "data": {
      "image/png": "[encoded data removed]",
      "text/plain": [
       "<matplotlib.figure.Figure at 0x1a21557fd0>"
      ]
     },
     "metadata": {},
     "output_type": "display_data"
    }
   ],
   "source": [
    "plt.hist(filmsdata.runtime, bins=32)"
   ]
  },
  {
   "cell_type": "code",
   "execution_count": 420,
   "metadata": {},
   "outputs": [
    {
     "data": {
      "text/plain": [
       "(array([ 10.,   8.,  64., 151., 464., 817., 698., 511., 284.,  56.]),\n",
       " array([3.  , 3.55, 4.1 , 4.65, 5.2 , 5.75, 6.3 , 6.85, 7.4 , 7.95, 8.5 ]),\n",
       " <a list of 10 Patch objects>)"
      ]
     },
     "execution_count": 420,
     "metadata": {},
     "output_type": "execute_result"
    },
    {
     "data": {
      "image/png": "[encoded data removed]",
      "text/plain": [
       "<matplotlib.figure.Figure at 0x1a21dd0ba8>"
      ]
     },
     "metadata": {},
     "output_type": "display_data"
    }
   ],
   "source": [
    "plt.hist(filmsdata.vote_average, bins=10)"
   ]
  },
  {
   "cell_type": "code",
   "execution_count": 421,
   "metadata": {},
   "outputs": [
    {
     "data": {
      "text/plain": [
       "(array([8.000e+00, 8.460e+02, 1.343e+03, 4.340e+02, 1.600e+02, 9.100e+01,\n",
       "        5.000e+01, 3.700e+01, 2.600e+01, 2.100e+01, 1.200e+01, 1.700e+01,\n",
       "        8.000e+00, 1.000e+00, 2.000e+00, 2.000e+00, 0.000e+00, 2.000e+00,\n",
       "        1.000e+00, 0.000e+00, 0.000e+00, 1.000e+00, 0.000e+00, 0.000e+00,\n",
       "        0.000e+00, 0.000e+00, 0.000e+00, 0.000e+00, 0.000e+00, 0.000e+00,\n",
       "        0.000e+00, 1.000e+00]),\n",
       " array([-1.65710090e+08, -8.08139907e+07,  4.08210856e+06,  8.89782078e+07,\n",
       "         1.73874307e+08,  2.58770406e+08,  3.43666506e+08,  4.28562605e+08,\n",
       "         5.13458704e+08,  5.98354804e+08,  6.83250903e+08,  7.68147002e+08,\n",
       "         8.53043101e+08,  9.37939201e+08,  1.02283530e+09,  1.10773140e+09,\n",
       "         1.19262750e+09,  1.27752360e+09,  1.36241970e+09,  1.44731580e+09,\n",
       "         1.53221190e+09,  1.61710799e+09,  1.70200409e+09,  1.78690019e+09,\n",
       "         1.87179629e+09,  1.95669239e+09,  2.04158849e+09,  2.12648459e+09,\n",
       "         2.21138069e+09,  2.29627679e+09,  2.38117289e+09,  2.46606899e+09,\n",
       "         2.55096509e+09]),\n",
       " <a list of 32 Patch objects>)"
      ]
     },
     "execution_count": 421,
     "metadata": {},
     "output_type": "execute_result"
    },
    {
     "data": {
      "image/png": "[encoded data removed]",
      "text/plain": [
       "<matplotlib.figure.Figure at 0x1a21d107f0>"
      ]
     },
     "metadata": {},
     "output_type": "display_data"
    }
   ],
   "source": [
    "plt.hist(filmsdata.profit, bins=32)"
   ]
  },
  {
   "cell_type": "code",
   "execution_count": 422,
   "metadata": {},
   "outputs": [
    {
     "name": "stdout",
     "output_type": "stream",
     "text": [
      "Mean Values:\n"
     ]
    },
    {
     "data": {
      "text/plain": [
       "budget           42297943.0\n",
       "revenue         127429483.0\n",
       "runtime               111.0\n",
       "vote_average            6.0\n",
       "profit           85131540.0\n",
       "dtype: float64"
      ]
     },
     "execution_count": 422,
     "metadata": {},
     "output_type": "execute_result"
    }
   ],
   "source": [
    "filmsdatamean = round(filmsdata.mean())\n",
    "filmsdatavar = round(filmsdata.var())\n",
    "filmsdatastd = round(filmsdata.std())\n",
    "print('Mean Values:')\n",
    "filmsdatamean"
   ]
  },
  {
   "cell_type": "code",
   "execution_count": 423,
   "metadata": {},
   "outputs": [
    {
     "name": "stdout",
     "output_type": "stream",
     "text": [
      "Variance Values:\n"
     ]
    },
    {
     "data": {
      "text/plain": [
       "budget          2.014437e+15\n",
       "revenue         3.582998e+16\n",
       "runtime         4.410000e+02\n",
       "vote_average    1.000000e+00\n",
       "profit          2.594807e+16\n",
       "dtype: float64"
      ]
     },
     "execution_count": 423,
     "metadata": {},
     "output_type": "execute_result"
    }
   ],
   "source": [
    "print('Variance Values:')\n",
    "filmsdatavar"
   ]
  },
  {
   "cell_type": "code",
   "execution_count": 424,
   "metadata": {},
   "outputs": [
    {
     "name": "stdout",
     "output_type": "stream",
     "text": [
      "Standard Deviation Values:\n"
     ]
    },
    {
     "data": {
      "text/plain": [
       "budget           44882480.0\n",
       "revenue         189288092.0\n",
       "runtime                21.0\n",
       "vote_average            1.0\n",
       "profit          161084036.0\n",
       "dtype: float64"
      ]
     },
     "execution_count": 424,
     "metadata": {},
     "output_type": "execute_result"
    }
   ],
   "source": [
    "print('Standard Deviation Values:')\n",
    "filmsdatastd"
   ]
  },
  {
   "cell_type": "code",
   "execution_count": 425,
   "metadata": {},
   "outputs": [
    {
     "name": "stdout",
     "output_type": "stream",
     "text": [
      "Mode Values:\n",
      "20000000\n",
      "100\n",
      "6\n",
      "-14000000\n"
     ]
    }
   ],
   "source": [
    "print('Mode Values:')\n",
    "print(round(statistics.mode(filmsdata.budget)))\n",
    "# print(round(statistics.mode(filmsdata.revenue)))\n",
    "print(round(statistics.mode(filmsdata.runtime)))\n",
    "print(round(statistics.mode(filmsdata.vote_average)))\n",
    "print(round(statistics.mode(filmsdata.profit)))"
   ]
  },
  {
   "cell_type": "markdown",
   "metadata": {},
   "source": [
    "The runtime distribution is extremely skewed. Looking at the runtimes over 200 should shed some light on this."
   ]
  },
  {
   "cell_type": "code",
   "execution_count": 426,
   "metadata": {},
   "outputs": [],
   "source": [
    "runtimeoutlier = filmsdata[filmsdata.runtime > 200]"
   ]
  },
  {
   "cell_type": "code",
   "execution_count": 427,
   "metadata": {},
   "outputs": [
    {
     "data": {
      "text/html": [
       "<div>\n",
       "<style scoped>\n",
       "    .dataframe tbody tr th:only-of-type {\n",
       "        vertical-align: middle;\n",
       "    }\n",
       "\n",
       "    .dataframe tbody tr th {\n",
       "        vertical-align: top;\n",
       "    }\n",
       "\n",
       "    .dataframe thead th {\n",
       "        text-align: right;\n",
       "    }\n",
       "</style>\n",
       "<table border=\"1\" class=\"dataframe\">\n",
       "  <thead>\n",
       "    <tr style=\"text-align: right;\">\n",
       "      <th></th>\n",
       "      <th>title</th>\n",
       "      <th>budget</th>\n",
       "      <th>revenue</th>\n",
       "      <th>runtime</th>\n",
       "      <th>vote_average</th>\n",
       "      <th>profit</th>\n",
       "    </tr>\n",
       "  </thead>\n",
       "  <tbody>\n",
       "    <tr>\n",
       "      <th>329</th>\n",
       "      <td>The Lord of the Rings: The Return of the King</td>\n",
       "      <td>94000000</td>\n",
       "      <td>1118888979</td>\n",
       "      <td>201.0</td>\n",
       "      <td>8.1</td>\n",
       "      <td>1024888979</td>\n",
       "    </tr>\n",
       "    <tr>\n",
       "      <th>855</th>\n",
       "      <td>Gods and Generals</td>\n",
       "      <td>56000000</td>\n",
       "      <td>12923936</td>\n",
       "      <td>214.0</td>\n",
       "      <td>6.1</td>\n",
       "      <td>-43076064</td>\n",
       "    </tr>\n",
       "    <tr>\n",
       "      <th>1109</th>\n",
       "      <td>Heaven's Gate</td>\n",
       "      <td>44000000</td>\n",
       "      <td>3484331</td>\n",
       "      <td>219.0</td>\n",
       "      <td>6.4</td>\n",
       "      <td>-40515669</td>\n",
       "    </tr>\n",
       "    <tr>\n",
       "      <th>1125</th>\n",
       "      <td>Cleopatra</td>\n",
       "      <td>31115000</td>\n",
       "      <td>71000000</td>\n",
       "      <td>248.0</td>\n",
       "      <td>6.7</td>\n",
       "      <td>39885000</td>\n",
       "    </tr>\n",
       "    <tr>\n",
       "      <th>1387</th>\n",
       "      <td>Malcolm X</td>\n",
       "      <td>34000000</td>\n",
       "      <td>48169908</td>\n",
       "      <td>202.0</td>\n",
       "      <td>7.2</td>\n",
       "      <td>14169908</td>\n",
       "    </tr>\n",
       "    <tr>\n",
       "      <th>2384</th>\n",
       "      <td>Carlos</td>\n",
       "      <td>18000000</td>\n",
       "      <td>871279</td>\n",
       "      <td>338.0</td>\n",
       "      <td>6.7</td>\n",
       "      <td>-17128721</td>\n",
       "    </tr>\n",
       "    <tr>\n",
       "      <th>2550</th>\n",
       "      <td>Lawrence of Arabia</td>\n",
       "      <td>15000000</td>\n",
       "      <td>69995385</td>\n",
       "      <td>216.0</td>\n",
       "      <td>7.8</td>\n",
       "      <td>54995385</td>\n",
       "    </tr>\n",
       "    <tr>\n",
       "      <th>3813</th>\n",
       "      <td>Gone with the Wind</td>\n",
       "      <td>4000000</td>\n",
       "      <td>400176459</td>\n",
       "      <td>238.0</td>\n",
       "      <td>7.7</td>\n",
       "      <td>396176459</td>\n",
       "    </tr>\n",
       "    <tr>\n",
       "      <th>4497</th>\n",
       "      <td>Woodstock</td>\n",
       "      <td>600000</td>\n",
       "      <td>34505110</td>\n",
       "      <td>225.0</td>\n",
       "      <td>7.1</td>\n",
       "      <td>33905110</td>\n",
       "    </tr>\n",
       "    <tr>\n",
       "      <th>4535</th>\n",
       "      <td>Seven Samurai</td>\n",
       "      <td>2000000</td>\n",
       "      <td>271841</td>\n",
       "      <td>207.0</td>\n",
       "      <td>8.2</td>\n",
       "      <td>-1728159</td>\n",
       "    </tr>\n",
       "  </tbody>\n",
       "</table>\n",
       "</div>"
      ],
      "text/plain": [
       "                                              title    budget     revenue  \\\n",
       "329   The Lord of the Rings: The Return of the King  94000000  1118888979   \n",
       "855                               Gods and Generals  56000000    12923936   \n",
       "1109                                  Heaven's Gate  44000000     3484331   \n",
       "1125                                      Cleopatra  31115000    71000000   \n",
       "1387                                      Malcolm X  34000000    48169908   \n",
       "2384                                         Carlos  18000000      871279   \n",
       "2550                             Lawrence of Arabia  15000000    69995385   \n",
       "3813                             Gone with the Wind   4000000   400176459   \n",
       "4497                                      Woodstock    600000    34505110   \n",
       "4535                                  Seven Samurai   2000000      271841   \n",
       "\n",
       "      runtime  vote_average      profit  \n",
       "329     201.0           8.1  1024888979  \n",
       "855     214.0           6.1   -43076064  \n",
       "1109    219.0           6.4   -40515669  \n",
       "1125    248.0           6.7    39885000  \n",
       "1387    202.0           7.2    14169908  \n",
       "2384    338.0           6.7   -17128721  \n",
       "2550    216.0           7.8    54995385  \n",
       "3813    238.0           7.7   396176459  \n",
       "4497    225.0           7.1    33905110  \n",
       "4535    207.0           8.2    -1728159  "
      ]
     },
     "execution_count": 427,
     "metadata": {},
     "output_type": "execute_result"
    }
   ],
   "source": [
    "runtimeoutlier"
   ]
  },
  {
   "cell_type": "markdown",
   "metadata": {},
   "source": [
    "Okay, the longest film, Carlos, in the dataset isn’t actually a feature film, but is instead a television miniseries. Therefore, it is not actually from the population in which we are looking to pull from and should be excluded. However, the others do appear to be legitimate feature films with theatrical releases."
   ]
  },
  {
   "cell_type": "markdown",
   "metadata": {},
   "source": [
    "Also, within the budget distribution there is a surprising amount of micro-budget movies and a movie that cost almost 400 million dollars. I’ve heard of Transformers and Avatar films costing 200 million, but this high of a number will need to be investigated."
   ]
  },
  {
   "cell_type": "code",
   "execution_count": 428,
   "metadata": {},
   "outputs": [],
   "source": [
    "budgetoutlier = filmsdata[filmsdata.budget > 200000000]"
   ]
  },
  {
   "cell_type": "code",
   "execution_count": 429,
   "metadata": {},
   "outputs": [
    {
     "data": {
      "text/html": [
       "<div>\n",
       "<style scoped>\n",
       "    .dataframe tbody tr th:only-of-type {\n",
       "        vertical-align: middle;\n",
       "    }\n",
       "\n",
       "    .dataframe tbody tr th {\n",
       "        vertical-align: top;\n",
       "    }\n",
       "\n",
       "    .dataframe thead th {\n",
       "        text-align: right;\n",
       "    }\n",
       "</style>\n",
       "<table border=\"1\" class=\"dataframe\">\n",
       "  <thead>\n",
       "    <tr style=\"text-align: right;\">\n",
       "      <th></th>\n",
       "      <th>title</th>\n",
       "      <th>budget</th>\n",
       "      <th>revenue</th>\n",
       "      <th>runtime</th>\n",
       "      <th>vote_average</th>\n",
       "      <th>profit</th>\n",
       "    </tr>\n",
       "  </thead>\n",
       "  <tbody>\n",
       "    <tr>\n",
       "      <th>0</th>\n",
       "      <td>Avatar</td>\n",
       "      <td>237000000</td>\n",
       "      <td>2787965087</td>\n",
       "      <td>162.0</td>\n",
       "      <td>7.2</td>\n",
       "      <td>2550965087</td>\n",
       "    </tr>\n",
       "    <tr>\n",
       "      <th>1</th>\n",
       "      <td>Pirates of the Caribbean: At World's End</td>\n",
       "      <td>300000000</td>\n",
       "      <td>961000000</td>\n",
       "      <td>169.0</td>\n",
       "      <td>6.9</td>\n",
       "      <td>661000000</td>\n",
       "    </tr>\n",
       "    <tr>\n",
       "      <th>2</th>\n",
       "      <td>Spectre</td>\n",
       "      <td>245000000</td>\n",
       "      <td>880674609</td>\n",
       "      <td>148.0</td>\n",
       "      <td>6.3</td>\n",
       "      <td>635674609</td>\n",
       "    </tr>\n",
       "    <tr>\n",
       "      <th>3</th>\n",
       "      <td>The Dark Knight Rises</td>\n",
       "      <td>250000000</td>\n",
       "      <td>1084939099</td>\n",
       "      <td>165.0</td>\n",
       "      <td>7.6</td>\n",
       "      <td>834939099</td>\n",
       "    </tr>\n",
       "    <tr>\n",
       "      <th>4</th>\n",
       "      <td>John Carter</td>\n",
       "      <td>260000000</td>\n",
       "      <td>284139100</td>\n",
       "      <td>132.0</td>\n",
       "      <td>6.1</td>\n",
       "      <td>24139100</td>\n",
       "    </tr>\n",
       "    <tr>\n",
       "      <th>5</th>\n",
       "      <td>Spider-Man 3</td>\n",
       "      <td>258000000</td>\n",
       "      <td>890871626</td>\n",
       "      <td>139.0</td>\n",
       "      <td>5.9</td>\n",
       "      <td>632871626</td>\n",
       "    </tr>\n",
       "    <tr>\n",
       "      <th>6</th>\n",
       "      <td>Tangled</td>\n",
       "      <td>260000000</td>\n",
       "      <td>591794936</td>\n",
       "      <td>100.0</td>\n",
       "      <td>7.4</td>\n",
       "      <td>331794936</td>\n",
       "    </tr>\n",
       "    <tr>\n",
       "      <th>7</th>\n",
       "      <td>Avengers: Age of Ultron</td>\n",
       "      <td>280000000</td>\n",
       "      <td>1405403694</td>\n",
       "      <td>141.0</td>\n",
       "      <td>7.3</td>\n",
       "      <td>1125403694</td>\n",
       "    </tr>\n",
       "    <tr>\n",
       "      <th>8</th>\n",
       "      <td>Harry Potter and the Half-Blood Prince</td>\n",
       "      <td>250000000</td>\n",
       "      <td>933959197</td>\n",
       "      <td>153.0</td>\n",
       "      <td>7.4</td>\n",
       "      <td>683959197</td>\n",
       "    </tr>\n",
       "    <tr>\n",
       "      <th>9</th>\n",
       "      <td>Batman v Superman: Dawn of Justice</td>\n",
       "      <td>250000000</td>\n",
       "      <td>873260194</td>\n",
       "      <td>151.0</td>\n",
       "      <td>5.7</td>\n",
       "      <td>623260194</td>\n",
       "    </tr>\n",
       "    <tr>\n",
       "      <th>10</th>\n",
       "      <td>Superman Returns</td>\n",
       "      <td>270000000</td>\n",
       "      <td>391081192</td>\n",
       "      <td>154.0</td>\n",
       "      <td>5.4</td>\n",
       "      <td>121081192</td>\n",
       "    </tr>\n",
       "    <tr>\n",
       "      <th>13</th>\n",
       "      <td>The Lone Ranger</td>\n",
       "      <td>255000000</td>\n",
       "      <td>89289910</td>\n",
       "      <td>149.0</td>\n",
       "      <td>5.9</td>\n",
       "      <td>-165710090</td>\n",
       "    </tr>\n",
       "    <tr>\n",
       "      <th>14</th>\n",
       "      <td>Man of Steel</td>\n",
       "      <td>225000000</td>\n",
       "      <td>662845518</td>\n",
       "      <td>143.0</td>\n",
       "      <td>6.5</td>\n",
       "      <td>437845518</td>\n",
       "    </tr>\n",
       "    <tr>\n",
       "      <th>15</th>\n",
       "      <td>The Chronicles of Narnia: Prince Caspian</td>\n",
       "      <td>225000000</td>\n",
       "      <td>419651413</td>\n",
       "      <td>150.0</td>\n",
       "      <td>6.3</td>\n",
       "      <td>194651413</td>\n",
       "    </tr>\n",
       "    <tr>\n",
       "      <th>16</th>\n",
       "      <td>The Avengers</td>\n",
       "      <td>220000000</td>\n",
       "      <td>1519557910</td>\n",
       "      <td>143.0</td>\n",
       "      <td>7.4</td>\n",
       "      <td>1299557910</td>\n",
       "    </tr>\n",
       "    <tr>\n",
       "      <th>17</th>\n",
       "      <td>Pirates of the Caribbean: On Stranger Tides</td>\n",
       "      <td>380000000</td>\n",
       "      <td>1045713802</td>\n",
       "      <td>136.0</td>\n",
       "      <td>6.4</td>\n",
       "      <td>665713802</td>\n",
       "    </tr>\n",
       "    <tr>\n",
       "      <th>18</th>\n",
       "      <td>Men in Black 3</td>\n",
       "      <td>225000000</td>\n",
       "      <td>624026776</td>\n",
       "      <td>106.0</td>\n",
       "      <td>6.2</td>\n",
       "      <td>399026776</td>\n",
       "    </tr>\n",
       "    <tr>\n",
       "      <th>19</th>\n",
       "      <td>The Hobbit: The Battle of the Five Armies</td>\n",
       "      <td>250000000</td>\n",
       "      <td>956019788</td>\n",
       "      <td>144.0</td>\n",
       "      <td>7.1</td>\n",
       "      <td>706019788</td>\n",
       "    </tr>\n",
       "    <tr>\n",
       "      <th>20</th>\n",
       "      <td>The Amazing Spider-Man</td>\n",
       "      <td>215000000</td>\n",
       "      <td>752215857</td>\n",
       "      <td>136.0</td>\n",
       "      <td>6.5</td>\n",
       "      <td>537215857</td>\n",
       "    </tr>\n",
       "    <tr>\n",
       "      <th>22</th>\n",
       "      <td>The Hobbit: The Desolation of Smaug</td>\n",
       "      <td>250000000</td>\n",
       "      <td>958400000</td>\n",
       "      <td>161.0</td>\n",
       "      <td>7.6</td>\n",
       "      <td>708400000</td>\n",
       "    </tr>\n",
       "    <tr>\n",
       "      <th>24</th>\n",
       "      <td>King Kong</td>\n",
       "      <td>207000000</td>\n",
       "      <td>550000000</td>\n",
       "      <td>187.0</td>\n",
       "      <td>6.6</td>\n",
       "      <td>343000000</td>\n",
       "    </tr>\n",
       "    <tr>\n",
       "      <th>26</th>\n",
       "      <td>Captain America: Civil War</td>\n",
       "      <td>250000000</td>\n",
       "      <td>1153304495</td>\n",
       "      <td>147.0</td>\n",
       "      <td>7.1</td>\n",
       "      <td>903304495</td>\n",
       "    </tr>\n",
       "    <tr>\n",
       "      <th>27</th>\n",
       "      <td>Battleship</td>\n",
       "      <td>209000000</td>\n",
       "      <td>303025485</td>\n",
       "      <td>131.0</td>\n",
       "      <td>5.5</td>\n",
       "      <td>94025485</td>\n",
       "    </tr>\n",
       "    <tr>\n",
       "      <th>33</th>\n",
       "      <td>X-Men: The Last Stand</td>\n",
       "      <td>210000000</td>\n",
       "      <td>459359555</td>\n",
       "      <td>104.0</td>\n",
       "      <td>6.3</td>\n",
       "      <td>249359555</td>\n",
       "    </tr>\n",
       "    <tr>\n",
       "      <th>36</th>\n",
       "      <td>Transformers: Age of Extinction</td>\n",
       "      <td>210000000</td>\n",
       "      <td>1091405097</td>\n",
       "      <td>165.0</td>\n",
       "      <td>5.8</td>\n",
       "      <td>881405097</td>\n",
       "    </tr>\n",
       "    <tr>\n",
       "      <th>46</th>\n",
       "      <td>X-Men: Days of Future Past</td>\n",
       "      <td>250000000</td>\n",
       "      <td>747862775</td>\n",
       "      <td>131.0</td>\n",
       "      <td>7.5</td>\n",
       "      <td>497862775</td>\n",
       "    </tr>\n",
       "    <tr>\n",
       "      <th>98</th>\n",
       "      <td>The Hobbit: An Unexpected Journey</td>\n",
       "      <td>250000000</td>\n",
       "      <td>1021103568</td>\n",
       "      <td>169.0</td>\n",
       "      <td>7.0</td>\n",
       "      <td>771103568</td>\n",
       "    </tr>\n",
       "  </tbody>\n",
       "</table>\n",
       "</div>"
      ],
      "text/plain": [
       "                                          title     budget     revenue  \\\n",
       "0                                        Avatar  237000000  2787965087   \n",
       "1      Pirates of the Caribbean: At World's End  300000000   961000000   \n",
       "2                                       Spectre  245000000   880674609   \n",
       "3                         The Dark Knight Rises  250000000  1084939099   \n",
       "4                                   John Carter  260000000   284139100   \n",
       "5                                  Spider-Man 3  258000000   890871626   \n",
       "6                                       Tangled  260000000   591794936   \n",
       "7                       Avengers: Age of Ultron  280000000  1405403694   \n",
       "8        Harry Potter and the Half-Blood Prince  250000000   933959197   \n",
       "9            Batman v Superman: Dawn of Justice  250000000   873260194   \n",
       "10                             Superman Returns  270000000   391081192   \n",
       "13                              The Lone Ranger  255000000    89289910   \n",
       "14                                 Man of Steel  225000000   662845518   \n",
       "15     The Chronicles of Narnia: Prince Caspian  225000000   419651413   \n",
       "16                                 The Avengers  220000000  1519557910   \n",
       "17  Pirates of the Caribbean: On Stranger Tides  380000000  1045713802   \n",
       "18                               Men in Black 3  225000000   624026776   \n",
       "19    The Hobbit: The Battle of the Five Armies  250000000   956019788   \n",
       "20                       The Amazing Spider-Man  215000000   752215857   \n",
       "22          The Hobbit: The Desolation of Smaug  250000000   958400000   \n",
       "24                                    King Kong  207000000   550000000   \n",
       "26                   Captain America: Civil War  250000000  1153304495   \n",
       "27                                   Battleship  209000000   303025485   \n",
       "33                        X-Men: The Last Stand  210000000   459359555   \n",
       "36              Transformers: Age of Extinction  210000000  1091405097   \n",
       "46                   X-Men: Days of Future Past  250000000   747862775   \n",
       "98            The Hobbit: An Unexpected Journey  250000000  1021103568   \n",
       "\n",
       "    runtime  vote_average      profit  \n",
       "0     162.0           7.2  2550965087  \n",
       "1     169.0           6.9   661000000  \n",
       "2     148.0           6.3   635674609  \n",
       "3     165.0           7.6   834939099  \n",
       "4     132.0           6.1    24139100  \n",
       "5     139.0           5.9   632871626  \n",
       "6     100.0           7.4   331794936  \n",
       "7     141.0           7.3  1125403694  \n",
       "8     153.0           7.4   683959197  \n",
       "9     151.0           5.7   623260194  \n",
       "10    154.0           5.4   121081192  \n",
       "13    149.0           5.9  -165710090  \n",
       "14    143.0           6.5   437845518  \n",
       "15    150.0           6.3   194651413  \n",
       "16    143.0           7.4  1299557910  \n",
       "17    136.0           6.4   665713802  \n",
       "18    106.0           6.2   399026776  \n",
       "19    144.0           7.1   706019788  \n",
       "20    136.0           6.5   537215857  \n",
       "22    161.0           7.6   708400000  \n",
       "24    187.0           6.6   343000000  \n",
       "26    147.0           7.1   903304495  \n",
       "27    131.0           5.5    94025485  \n",
       "33    104.0           6.3   249359555  \n",
       "36    165.0           5.8   881405097  \n",
       "46    131.0           7.5   497862775  \n",
       "98    169.0           7.0   771103568  "
      ]
     },
     "execution_count": 429,
     "metadata": {},
     "output_type": "execute_result"
    }
   ],
   "source": [
    "budgetoutlier"
   ]
  },
  {
   "cell_type": "markdown",
   "metadata": {},
   "source": [
    "Only one record in the dataset that looks out of place is Pirates of the Caribbean: On Stranger Tides. It is recorded as 380 million dollars. However, other sources, do validate this amount. According to Forbes, it is actually 410 million dollars.\n",
    "\n",
    "Source: https://www.forbes.com/sites/csylt/2014/07/22/fourth-pirates-of-the-caribbean-is-most-expensive-movie-ever-with-co #70a84bd8364f"
   ]
  },
  {
   "cell_type": "markdown",
   "metadata": {},
   "source": [
    "So, let’s look at the other side of the ledger; the micro-budget films."
   ]
  },
  {
   "cell_type": "code",
   "execution_count": 430,
   "metadata": {},
   "outputs": [],
   "source": [
    "budget_outlier = filmsdata[filmsdata.budget < 1000]"
   ]
  },
  {
   "cell_type": "code",
   "execution_count": 431,
   "metadata": {},
   "outputs": [
    {
     "data": {
      "text/html": [
       "<div>\n",
       "<style scoped>\n",
       "    .dataframe tbody tr th:only-of-type {\n",
       "        vertical-align: middle;\n",
       "    }\n",
       "\n",
       "    .dataframe tbody tr th {\n",
       "        vertical-align: top;\n",
       "    }\n",
       "\n",
       "    .dataframe thead th {\n",
       "        text-align: right;\n",
       "    }\n",
       "</style>\n",
       "<table border=\"1\" class=\"dataframe\">\n",
       "  <thead>\n",
       "    <tr style=\"text-align: right;\">\n",
       "      <th></th>\n",
       "      <th>title</th>\n",
       "      <th>budget</th>\n",
       "      <th>revenue</th>\n",
       "      <th>runtime</th>\n",
       "      <th>vote_average</th>\n",
       "      <th>profit</th>\n",
       "    </tr>\n",
       "  </thead>\n",
       "  <tbody>\n",
       "    <tr>\n",
       "      <th>1562</th>\n",
       "      <td>Rugrats in Paris: The Movie</td>\n",
       "      <td>30</td>\n",
       "      <td>103</td>\n",
       "      <td>78.0</td>\n",
       "      <td>6.0</td>\n",
       "      <td>73</td>\n",
       "    </tr>\n",
       "    <tr>\n",
       "      <th>1771</th>\n",
       "      <td>The 51st State</td>\n",
       "      <td>28</td>\n",
       "      <td>14</td>\n",
       "      <td>93.0</td>\n",
       "      <td>5.9</td>\n",
       "      <td>-14</td>\n",
       "    </tr>\n",
       "    <tr>\n",
       "      <th>1912</th>\n",
       "      <td>Angela's Ashes</td>\n",
       "      <td>25</td>\n",
       "      <td>13</td>\n",
       "      <td>145.0</td>\n",
       "      <td>7.0</td>\n",
       "      <td>-12</td>\n",
       "    </tr>\n",
       "    <tr>\n",
       "      <th>3137</th>\n",
       "      <td>Nurse 3-D</td>\n",
       "      <td>10</td>\n",
       "      <td>10000000</td>\n",
       "      <td>99.0</td>\n",
       "      <td>4.9</td>\n",
       "      <td>9999990</td>\n",
       "    </tr>\n",
       "    <tr>\n",
       "      <th>3372</th>\n",
       "      <td>Split Second</td>\n",
       "      <td>7</td>\n",
       "      <td>5</td>\n",
       "      <td>90.0</td>\n",
       "      <td>5.7</td>\n",
       "      <td>-2</td>\n",
       "    </tr>\n",
       "    <tr>\n",
       "      <th>4238</th>\n",
       "      <td>Modern Times</td>\n",
       "      <td>1</td>\n",
       "      <td>8500000</td>\n",
       "      <td>87.0</td>\n",
       "      <td>8.1</td>\n",
       "      <td>8499999</td>\n",
       "    </tr>\n",
       "    <tr>\n",
       "      <th>4608</th>\n",
       "      <td>The Prophecy</td>\n",
       "      <td>8</td>\n",
       "      <td>16</td>\n",
       "      <td>98.0</td>\n",
       "      <td>6.4</td>\n",
       "      <td>8</td>\n",
       "    </tr>\n",
       "  </tbody>\n",
       "</table>\n",
       "</div>"
      ],
      "text/plain": [
       "                            title  budget   revenue  runtime  vote_average  \\\n",
       "1562  Rugrats in Paris: The Movie      30       103     78.0           6.0   \n",
       "1771               The 51st State      28        14     93.0           5.9   \n",
       "1912               Angela's Ashes      25        13    145.0           7.0   \n",
       "3137                    Nurse 3-D      10  10000000     99.0           4.9   \n",
       "3372                 Split Second       7         5     90.0           5.7   \n",
       "4238                 Modern Times       1   8500000     87.0           8.1   \n",
       "4608                 The Prophecy       8        16     98.0           6.4   \n",
       "\n",
       "       profit  \n",
       "1562       73  \n",
       "1771      -14  \n",
       "1912      -12  \n",
       "3137  9999990  \n",
       "3372       -2  \n",
       "4238  8499999  \n",
       "4608        8  "
      ]
     },
     "execution_count": 431,
     "metadata": {},
     "output_type": "execute_result"
    }
   ],
   "source": [
    "budget_outlier"
   ]
  },
  {
   "cell_type": "markdown",
   "metadata": {},
   "source": [
    "After doing more research, none of these movies are legitimate. However, they are conversions not to the dollar, but instead 10 means 10 million for Nurse 3-D, according to The Guardian. Same with Rugrats, according to BoxOfficeMojo. According to the same source, the film actually only made 5k on limited release. The same million unit conversion also holds true for Rugrats revenue. Same for The 51st State, Split Second, and The Prophecy. However, according to BoxOfficeMojo, this isn’t true for Angela’s Ashes. In fact, it cost 50 million dollars to make and made $13,042,112. However, Modern times is completely off and can be removed.\n",
    "https://www.theguardian.com/film/2015/jul/21/paz-de-la-huerta-sues-director-of-sex-horror-nurse-3d-for-ruining-her-career https://web.archive.org/web/20140401011944/http://boxofficemojo.com/movies/?id=rugratsinparis.htm https://www.the-numbers.com/movie/Angelas-Ashes#tab=summary https://www.the-numbers.com/ movie/Split-Second#tab=summary http://www.boxofficemojo.com/movies/?id=prophecy95.htm http://www.boxofficemojo.com/movies/?id=angelasashes.htm"
   ]
  },
  {
   "cell_type": "code",
   "execution_count": 432,
   "metadata": {},
   "outputs": [
    {
     "name": "stderr",
     "output_type": "stream",
     "text": [
      "/anaconda3/lib/python3.6/site-packages/ipykernel_launcher.py:1: FutureWarning: set_value is deprecated and will be removed in a future release. Please use .at[] or .iat[] accessors instead\n",
      "  \"\"\"Entry point for launching an IPython kernel.\n",
      "/anaconda3/lib/python3.6/site-packages/ipykernel_launcher.py:2: FutureWarning: set_value is deprecated and will be removed in a future release. Please use .at[] or .iat[] accessors instead\n",
      "  \n",
      "/anaconda3/lib/python3.6/site-packages/ipykernel_launcher.py:3: FutureWarning: set_value is deprecated and will be removed in a future release. Please use .at[] or .iat[] accessors instead\n",
      "  This is separate from the ipykernel package so we can avoid doing imports until\n",
      "/anaconda3/lib/python3.6/site-packages/ipykernel_launcher.py:4: FutureWarning: set_value is deprecated and will be removed in a future release. Please use .at[] or .iat[] accessors instead\n",
      "  after removing the cwd from sys.path.\n",
      "/anaconda3/lib/python3.6/site-packages/ipykernel_launcher.py:5: FutureWarning: set_value is deprecated and will be removed in a future release. Please use .at[] or .iat[] accessors instead\n",
      "  \"\"\"\n",
      "/anaconda3/lib/python3.6/site-packages/ipykernel_launcher.py:6: FutureWarning: set_value is deprecated and will be removed in a future release. Please use .at[] or .iat[] accessors instead\n",
      "  \n",
      "/anaconda3/lib/python3.6/site-packages/ipykernel_launcher.py:7: FutureWarning: set_value is deprecated and will be removed in a future release. Please use .at[] or .iat[] accessors instead\n",
      "  import sys\n",
      "/anaconda3/lib/python3.6/site-packages/ipykernel_launcher.py:8: FutureWarning: set_value is deprecated and will be removed in a future release. Please use .at[] or .iat[] accessors instead\n",
      "  \n",
      "/anaconda3/lib/python3.6/site-packages/ipykernel_launcher.py:9: FutureWarning: set_value is deprecated and will be removed in a future release. Please use .at[] or .iat[] accessors instead\n",
      "  if __name__ == '__main__':\n",
      "/anaconda3/lib/python3.6/site-packages/ipykernel_launcher.py:10: FutureWarning: set_value is deprecated and will be removed in a future release. Please use .at[] or .iat[] accessors instead\n",
      "  # Remove the CWD from sys.path while we load stuff.\n",
      "/anaconda3/lib/python3.6/site-packages/ipykernel_launcher.py:11: FutureWarning: set_value is deprecated and will be removed in a future release. Please use .at[] or .iat[] accessors instead\n",
      "  # This is added back by InteractiveShellApp.init_path()\n",
      "/anaconda3/lib/python3.6/site-packages/ipykernel_launcher.py:12: FutureWarning: set_value is deprecated and will be removed in a future release. Please use .at[] or .iat[] accessors instead\n",
      "  if sys.path[0] == '':\n"
     ]
    },
    {
     "data": {
      "text/plain": [
       "''"
      ]
     },
     "execution_count": 432,
     "metadata": {},
     "output_type": "execute_result"
    }
   ],
   "source": [
    "filmsdata.set_value(1562, 'budget', 30000000)\n",
    "filmsdata.set_value(1562, 'revenue', 103000000)\n",
    "filmsdata.set_value(1771, 'budget', 28000000)\n",
    "filmsdata.set_value(1771, 'revenue', 14000000)\n",
    "filmsdata.set_value(3137, 'budget', 10000000)\n",
    "filmsdata.set_value(3137, 'revenue', 5000)\n",
    "filmsdata.set_value(4608, 'budget', 8000000)\n",
    "filmsdata.set_value(4608, 'revenue', 16000000)\n",
    "filmsdata.set_value(1912, 'budget', 50000000)\n",
    "filmsdata.set_value(1912, 'revenue', 13042112)\n",
    "filmsdata.set_value(3372, 'budget', 7000000)\n",
    "filmsdata.set_value(3372, 'revenue', 5000000)\n",
    ";"
   ]
  },
  {
   "cell_type": "code",
   "execution_count": 433,
   "metadata": {},
   "outputs": [],
   "source": [
    "budget_outlier = filmsdata[filmsdata.budget < 1000]"
   ]
  },
  {
   "cell_type": "code",
   "execution_count": 434,
   "metadata": {},
   "outputs": [
    {
     "data": {
      "text/html": [
       "<div>\n",
       "<style scoped>\n",
       "    .dataframe tbody tr th:only-of-type {\n",
       "        vertical-align: middle;\n",
       "    }\n",
       "\n",
       "    .dataframe tbody tr th {\n",
       "        vertical-align: top;\n",
       "    }\n",
       "\n",
       "    .dataframe thead th {\n",
       "        text-align: right;\n",
       "    }\n",
       "</style>\n",
       "<table border=\"1\" class=\"dataframe\">\n",
       "  <thead>\n",
       "    <tr style=\"text-align: right;\">\n",
       "      <th></th>\n",
       "      <th>title</th>\n",
       "      <th>budget</th>\n",
       "      <th>revenue</th>\n",
       "      <th>runtime</th>\n",
       "      <th>vote_average</th>\n",
       "      <th>profit</th>\n",
       "    </tr>\n",
       "  </thead>\n",
       "  <tbody>\n",
       "    <tr>\n",
       "      <th>4238</th>\n",
       "      <td>Modern Times</td>\n",
       "      <td>1</td>\n",
       "      <td>8500000</td>\n",
       "      <td>87.0</td>\n",
       "      <td>8.1</td>\n",
       "      <td>8499999</td>\n",
       "    </tr>\n",
       "  </tbody>\n",
       "</table>\n",
       "</div>"
      ],
      "text/plain": [
       "             title  budget  revenue  runtime  vote_average   profit\n",
       "4238  Modern Times       1  8500000     87.0           8.1  8499999"
      ]
     },
     "execution_count": 434,
     "metadata": {},
     "output_type": "execute_result"
    }
   ],
   "source": [
    "budget_outlier"
   ]
  },
  {
   "cell_type": "code",
   "execution_count": 435,
   "metadata": {},
   "outputs": [],
   "source": [
    "filmsdata = filmsdata[filmsdata.budget > 1000]"
   ]
  },
  {
   "cell_type": "code",
   "execution_count": 436,
   "metadata": {},
   "outputs": [],
   "source": [
    "revenue_outlier = filmsdata[filmsdata.revenue < 1000]"
   ]
  },
  {
   "cell_type": "code",
   "execution_count": 437,
   "metadata": {},
   "outputs": [
    {
     "data": {
      "text/html": [
       "<div>\n",
       "<style scoped>\n",
       "    .dataframe tbody tr th:only-of-type {\n",
       "        vertical-align: middle;\n",
       "    }\n",
       "\n",
       "    .dataframe tbody tr th {\n",
       "        vertical-align: top;\n",
       "    }\n",
       "\n",
       "    .dataframe thead th {\n",
       "        text-align: right;\n",
       "    }\n",
       "</style>\n",
       "<table border=\"1\" class=\"dataframe\">\n",
       "  <thead>\n",
       "    <tr style=\"text-align: right;\">\n",
       "      <th></th>\n",
       "      <th>title</th>\n",
       "      <th>budget</th>\n",
       "      <th>revenue</th>\n",
       "      <th>runtime</th>\n",
       "      <th>vote_average</th>\n",
       "      <th>profit</th>\n",
       "    </tr>\n",
       "  </thead>\n",
       "  <tbody>\n",
       "    <tr>\n",
       "      <th>1655</th>\n",
       "      <td>Chasing Liberty</td>\n",
       "      <td>23000000</td>\n",
       "      <td>12</td>\n",
       "      <td>111.0</td>\n",
       "      <td>6.1</td>\n",
       "      <td>-22999988</td>\n",
       "    </tr>\n",
       "    <tr>\n",
       "      <th>2068</th>\n",
       "      <td>Death at a Funeral</td>\n",
       "      <td>9000000</td>\n",
       "      <td>46</td>\n",
       "      <td>90.0</td>\n",
       "      <td>6.9</td>\n",
       "      <td>-8999954</td>\n",
       "    </tr>\n",
       "    <tr>\n",
       "      <th>2874</th>\n",
       "      <td>In the Cut</td>\n",
       "      <td>12000000</td>\n",
       "      <td>23</td>\n",
       "      <td>119.0</td>\n",
       "      <td>4.6</td>\n",
       "      <td>-11999977</td>\n",
       "    </tr>\n",
       "  </tbody>\n",
       "</table>\n",
       "</div>"
      ],
      "text/plain": [
       "                   title    budget  revenue  runtime  vote_average    profit\n",
       "1655     Chasing Liberty  23000000       12    111.0           6.1 -22999988\n",
       "2068  Death at a Funeral   9000000       46     90.0           6.9  -8999954\n",
       "2874          In the Cut  12000000       23    119.0           4.6 -11999977"
      ]
     },
     "execution_count": 437,
     "metadata": {},
     "output_type": "execute_result"
    }
   ],
   "source": [
    "revenue_outlier"
   ]
  },
  {
   "cell_type": "markdown",
   "metadata": {},
   "source": [
    "The revenues should be multiplied by 1,000,000. In the Cut should be 23 million, per BoxOfficeMojo. Same with Chasing Liberty. Same with Death at a Funeral.\n",
    "http://www.boxofficemojo.com/movies/?id=inthecut.htm http://www.boxofficemojo.com/movies/?id= chasingliberty.htm http://www.boxofficemojo.com/movies/?id=deathatafuneral.htm"
   ]
  },
  {
   "cell_type": "code",
   "execution_count": 438,
   "metadata": {},
   "outputs": [
    {
     "name": "stderr",
     "output_type": "stream",
     "text": [
      "/anaconda3/lib/python3.6/site-packages/ipykernel_launcher.py:1: FutureWarning: set_value is deprecated and will be removed in a future release. Please use .at[] or .iat[] accessors instead\n",
      "  \"\"\"Entry point for launching an IPython kernel.\n",
      "/anaconda3/lib/python3.6/site-packages/ipykernel_launcher.py:2: FutureWarning: set_value is deprecated and will be removed in a future release. Please use .at[] or .iat[] accessors instead\n",
      "  \n",
      "/anaconda3/lib/python3.6/site-packages/ipykernel_launcher.py:3: FutureWarning: set_value is deprecated and will be removed in a future release. Please use .at[] or .iat[] accessors instead\n",
      "  This is separate from the ipykernel package so we can avoid doing imports until\n"
     ]
    },
    {
     "data": {
      "text/plain": [
       "''"
      ]
     },
     "execution_count": 438,
     "metadata": {},
     "output_type": "execute_result"
    }
   ],
   "source": [
    "filmsdata.set_value(1655, 'revenue', 12000000)\n",
    "filmsdata.set_value(2068, 'revenue', 46000000)\n",
    "filmsdata.set_value(2874, 'revenue', 23000000)\n",
    ";"
   ]
  },
  {
   "cell_type": "markdown",
   "metadata": {},
   "source": [
    "Now, these minimums and maximums look better for runtime, budget, and revenue."
   ]
  },
  {
   "cell_type": "markdown",
   "metadata": {},
   "source": [
    "Next, I will use a PMF to research the relationship with film length and vote_average."
   ]
  },
  {
   "cell_type": "code",
   "execution_count": 439,
   "metadata": {},
   "outputs": [
    {
     "data": {
      "text/plain": [
       "''"
      ]
     },
     "execution_count": 439,
     "metadata": {},
     "output_type": "execute_result"
    }
   ],
   "source": [
    "filmsdatahighvote = filmsdata[filmsdata.runtime > 90]\n",
    "filmsdatalowvote = filmsdata[filmsdata.runtime <= 90]\n",
    "filmsdatahighvoteruntime = filmsdatahighvote.vote_average\n",
    "filmsdatalowvoteruntime = filmsdatalowvote.vote_average\n",
    "highvoteruntime_pmf = thinkstats2.Pmf(filmsdatahighvoteruntime)\n",
    "lowvoteruntime_pmf = thinkstats2.Pmf(filmsdatalowvoteruntime)\n",
    ";"
   ]
  },
  {
   "cell_type": "code",
   "execution_count": 440,
   "metadata": {},
   "outputs": [
    {
     "name": "stderr",
     "output_type": "stream",
     "text": [
      "No handles with labels found to put in legend.\n"
     ]
    },
    {
     "data": {
      "image/png": "[encoded data removed]",
      "text/plain": [
       "<matplotlib.figure.Figure at 0x1a217116a0>"
      ]
     },
     "metadata": {},
     "output_type": "display_data"
    },
    {
     "data": {
      "text/plain": [
       "<matplotlib.figure.Figure at 0x1a221e8eb8>"
      ]
     },
     "metadata": {},
     "output_type": "display_data"
    }
   ],
   "source": [
    "thinkplot.PrePlot(2)\n",
    "thinkplot.Pmfs([lowvoteruntime_pmf, highvoteruntime_pmf])\n",
    "thinkplot.Show(xlabel='Average User Rating')"
   ]
  },
  {
   "cell_type": "markdown",
   "metadata": {},
   "source": [
    "PMFs work well if the number of values is small, like vote_average. But as the number of values increases, like with revenue, the probability associated with each value gets smaller and the effecet of random noise increases. There problems can be mitigated by using the cumulative distribution function. The CDF is a function that maps from a value to its percentile rank."
   ]
  },
  {
   "cell_type": "code",
   "execution_count": 441,
   "metadata": {},
   "outputs": [
    {
     "data": {
      "text/plain": [
       "{'xscale': 'linear', 'yscale': 'linear'}"
      ]
     },
     "execution_count": 441,
     "metadata": {},
     "output_type": "execute_result"
    },
    {
     "data": {
      "image/png": "[encoded data removed]",
      "text/plain": [
       "<matplotlib.figure.Figure at 0x1a1e7cc7b8>"
      ]
     },
     "metadata": {},
     "output_type": "display_data"
    }
   ],
   "source": [
    "cdf = thinkstats2.Cdf(filmsdata.revenue, label='revenue')\n",
    "thinkplot.Cdf(cdf)"
   ]
  },
  {
   "cell_type": "markdown",
   "metadata": {},
   "source": [
    "One way to read this is that about 95% of films gross less than half a billion dollars.\n",
    "\n",
    "The steepest portion of the graph is close closest to zero. Therefore, what this graph tells us is that most films don’t gross a lot of money at the box office, but a very small percentage gross an extraordinary amount of money.\n",
    "\n",
    "This doesn’t directly address the question of if it is possible to predict, with a high level of certainty, if we can predict a film’s success, but it does let us know that what is most common amongst all the films is not likely what can best explain film success."
   ]
  },
  {
   "cell_type": "markdown",
   "metadata": {},
   "source": [
    "I have chosen to use the normal distribution analytical model to explore the budget variable. Based on what we learned in the last graph, that the vast majority of films do gross close to nothing, this means that we also know that the distribution of revenue is extremely skewed. Therefore, any reliable predictor of an extremely skewed distribution must itself be an extremely skewed.\n",
    "\n",
    "Since I previously hypothesized that for audiences to feel a movie is worth seeing in the theater, that it must be a large-scale film with explosions and special effects; both of which significantly drive up a film's budget. Then, if this is to hold true, I expect the normal distribution to not be a good model for the budget variable.\n"
   ]
  },
  {
   "cell_type": "code",
   "execution_count": 442,
   "metadata": {},
   "outputs": [
    {
     "name": "stdout",
     "output_type": "stream",
     "text": [
      "Mean, Var 40771847.11492339 1616387883309983.2\n"
     ]
    }
   ],
   "source": [
    "mu, var = thinkstats2.TrimmedMeanVar(filmsdata.budget, p=0.01)\n",
    "print('Mean, Var', mu, var)"
   ]
  },
  {
   "cell_type": "code",
   "execution_count": 443,
   "metadata": {},
   "outputs": [
    {
     "data": {
      "text/plain": [
       "380000000"
      ]
     },
     "execution_count": 443,
     "metadata": {},
     "output_type": "execute_result"
    }
   ],
   "source": [
    "max(filmsdata.budget)"
   ]
  },
  {
   "cell_type": "code",
   "execution_count": 444,
   "metadata": {},
   "outputs": [
    {
     "data": {
      "text/plain": [
       "7000"
      ]
     },
     "execution_count": 444,
     "metadata": {},
     "output_type": "execute_result"
    }
   ],
   "source": [
    "min(filmsdata.budget)"
   ]
  },
  {
   "cell_type": "code",
   "execution_count": 445,
   "metadata": {},
   "outputs": [
    {
     "name": "stdout",
     "output_type": "stream",
     "text": [
      "Sigma 40204326.67400342\n"
     ]
    },
    {
     "data": {
      "image/png": "[encoded data removed]",
      "text/plain": [
       "<matplotlib.figure.Figure at 0x1a2229ef28>"
      ]
     },
     "metadata": {},
     "output_type": "display_data"
    }
   ],
   "source": [
    "# plot the model\n",
    "sigma = np.sqrt(var)\n",
    "print('Sigma', sigma)\n",
    "xs, ps = thinkstats2.RenderNormalCdf(mu, sigma, low=7000, high=380000000)\n",
    "\n",
    "thinkplot.Plot(xs, ps, label='model', color='0.6')\n",
    "\n",
    "cdf = thinkstats2.Cdf(filmsdata.budget, label='data')\n",
    "\n",
    "thinkplot.PrePlot(1)\n",
    "thinkplot.Cdf(cdf) \n",
    "thinkplot.Config(title='Film Budgets Normal Distribution',\n",
    "                 xlabel='Film Budgets',\n",
    "                 ylabel='CDF')"
   ]
  },
  {
   "cell_type": "markdown",
   "metadata": {},
   "source": [
    "Next, I will observe the relationship between profit and budget. I will begin by plotting a scatterplot of these two variables."
   ]
  },
  {
   "cell_type": "code",
   "execution_count": 446,
   "metadata": {},
   "outputs": [
    {
     "data": {
      "image/png": "[encoded data removed]",
      "text/plain": [
       "<matplotlib.figure.Figure at 0x1a222b6978>"
      ]
     },
     "metadata": {},
     "output_type": "display_data"
    },
    {
     "data": {
      "text/plain": [
       "<matplotlib.figure.Figure at 0x1a21581748>"
      ]
     },
     "metadata": {},
     "output_type": "display_data"
    }
   ],
   "source": [
    "thinkplot.Scatter(filmsdata.budget, filmsdata.profit)\n",
    "thinkplot.Show(xlabel='Film Profits',\n",
    "               ylabel='Film Budgets',\n",
    "               title='Scatterplot of Budget and Profit Relationship')"
   ]
  },
  {
   "cell_type": "markdown",
   "metadata": {},
   "source": [
    "Next, we will calculate the covariance to measure the tendecy of the two variables to vary together."
   ]
  },
  {
   "cell_type": "code",
   "execution_count": 447,
   "metadata": {},
   "outputs": [],
   "source": [
    "def Cov(xs, ys, meanx=None, meany=None):\n",
    "    xs = np.asarray(xs)\n",
    "    ys = np.asarray(ys)\n",
    "\n",
    "    if meanx is None:\n",
    "        meanx = np.mean(xs)\n",
    "    if meany is None:\n",
    "        meany = np.mean(ys)\n",
    "\n",
    "    cov = np.dot(xs-meanx, ys-meany) / len(xs)\n",
    "    return cov"
   ]
  },
  {
   "cell_type": "code",
   "execution_count": 448,
   "metadata": {},
   "outputs": [
    {
     "data": {
      "text/plain": [
       "3929014024282456.0"
      ]
     },
     "execution_count": 448,
     "metadata": {},
     "output_type": "execute_result"
    }
   ],
   "source": [
    "Cov(filmsdata.budget, filmsdata.profit)"
   ]
  },
  {
   "cell_type": "markdown",
   "metadata": {},
   "source": [
    "Next, I will calculate a more useful, and standardized computation of this value."
   ]
  },
  {
   "cell_type": "code",
   "execution_count": 449,
   "metadata": {},
   "outputs": [],
   "source": [
    "def Corr(xs, ys):\n",
    "    xs = np.asarray(xs)\n",
    "    ys = np.asarray(ys)\n",
    "\n",
    "    meanx, varx = thinkstats2.MeanVar(xs)\n",
    "    meany, vary = thinkstats2.MeanVar(ys)\n",
    "\n",
    "    corr = Cov(xs, ys, meanx, meany) / np.sqrt(varx * vary)\n",
    "    return corr"
   ]
  },
  {
   "cell_type": "code",
   "execution_count": 450,
   "metadata": {},
   "outputs": [
    {
     "data": {
      "text/plain": [
       "0.5438449953498812"
      ]
     },
     "execution_count": 450,
     "metadata": {},
     "output_type": "execute_result"
    }
   ],
   "source": [
    "Corr(filmsdata.budget, filmsdata.profit)"
   ]
  },
  {
   "cell_type": "markdown",
   "metadata": {},
   "source": [
    "Each correlation coefficient in the matrix can range between -1 and 1, with higher positive numbers meaning a closer relationship between the two variables, lower negative numbers meaning an inverse relationship and numbers near zero meaning no relationship."
   ]
  },
  {
   "cell_type": "markdown",
   "metadata": {},
   "source": [
    "Profit and Budget have a moderate positive value of .54, which implies a above average positive relationship. Meaning that as the budget of a film increases, then so does the profit the film generates on average. "
   ]
  },
  {
   "cell_type": "markdown",
   "metadata": {},
   "source": [
    "Looking at the scatterplot allows us to go beyond the Pearson correlation and look at if there is a nonlinear relationship between the variables that is not reflected in the correlation coefficient, which only measures linear relationships. However, looking at the scatterplot, there are no visible nonlinear relationship between profit and budget. It is instead a moderate linear relationship."
   ]
  },
  {
   "cell_type": "markdown",
   "metadata": {},
   "source": [
    "Next, I will observe the relationship between vote average and budget. I will begin by plotting a scatterplot of these two variables."
   ]
  },
  {
   "cell_type": "code",
   "execution_count": 451,
   "metadata": {},
   "outputs": [
    {
     "data": {
      "image/png": "[encoded data removed]",
      "text/plain": [
       "<matplotlib.figure.Figure at 0x1a214edda0>"
      ]
     },
     "metadata": {},
     "output_type": "display_data"
    },
    {
     "data": {
      "text/plain": [
       "<matplotlib.figure.Figure at 0x1a21951828>"
      ]
     },
     "metadata": {},
     "output_type": "display_data"
    }
   ],
   "source": [
    "thinkplot.Scatter(filmsdata.vote_average, filmsdata.profit)\n",
    "thinkplot.Show(xlabel='Film Average Rating',\n",
    "               ylabel='Film Budgets',\n",
    "               title='Scatterplot of Averate Rating and Profit Relationship')"
   ]
  },
  {
   "cell_type": "markdown",
   "metadata": {},
   "source": [
    "Now, I will calculate the covariance."
   ]
  },
  {
   "cell_type": "code",
   "execution_count": 452,
   "metadata": {},
   "outputs": [
    {
     "data": {
      "text/plain": [
       "30489404.113659065"
      ]
     },
     "execution_count": 452,
     "metadata": {},
     "output_type": "execute_result"
    }
   ],
   "source": [
    "Cov(filmsdata.vote_average, filmsdata.profit)"
   ]
  },
  {
   "cell_type": "markdown",
   "metadata": {},
   "source": [
    "Next, I will calculate the Pearson correlation coefficient."
   ]
  },
  {
   "cell_type": "code",
   "execution_count": 453,
   "metadata": {},
   "outputs": [
    {
     "data": {
      "text/plain": [
       "0.22829178515324627"
      ]
     },
     "execution_count": 453,
     "metadata": {},
     "output_type": "execute_result"
    }
   ],
   "source": [
    "Corr(filmsdata.vote_average, filmsdata.profit + filmsdata.vote_average)"
   ]
  },
  {
   "cell_type": "markdown",
   "metadata": {},
   "source": [
    "Profit and Vote_Average have a low, positive value of .23, which implies a weak positive relationship. Meaning that as the quality of a film increases, then so does the profit the film generates on average, but only by a small margin."
   ]
  },
  {
   "cell_type": "markdown",
   "metadata": {},
   "source": [
    "Looking at the scatterplot allows us to go beyond the Pearson correlation and look at if there is a nonlinear relationship between the variables that is not reflected in the correlation coefficient, which only measures linear relationships. However, looking at the scatterplot, there are no visible nonlinear relationship between profit and average rating. It is instead a weak linear relationship."
   ]
  },
  {
   "cell_type": "markdown",
   "metadata": {},
   "source": [
    "Next, I will perform hypothesis testing on the correlation of runtime and profit. At the onset, I hypothosized that a film's runtime is one that could be important for the same reason as a budget. Reason being that for audiences to feel a movie is worth seeing in the theater, that it must be a longer film, so feel as if they are getting their money's worth on entertainment."
   ]
  },
  {
   "cell_type": "markdown",
   "metadata": {},
   "source": [
    "For my test statistic, I will use Pearson's correlation and I will do a two-sided test using the absolute correlation. The null hypothesis is that there is no correlation between a film's profit and a film's runtime."
   ]
  },
  {
   "cell_type": "code",
   "execution_count": 461,
   "metadata": {},
   "outputs": [],
   "source": [
    "class CorrelationPermute(thinkstats2.HypothesisTest):\n",
    "\n",
    "    def TestStatistic(self, data):\n",
    "        xs, ys = data\n",
    "        test_stat = abs(thinkstats2.Corr(xs, ys))\n",
    "        return test_stat\n",
    "\n",
    "    def RunModel(self):\n",
    "        xs, ys = self.data\n",
    "        xs = np.random.permutation(xs)\n",
    "        return xs, ys"
   ]
  },
  {
   "cell_type": "code",
   "execution_count": 464,
   "metadata": {},
   "outputs": [
    {
     "data": {
      "text/plain": [
       "0.0"
      ]
     },
     "execution_count": 464,
     "metadata": {},
     "output_type": "execute_result"
    }
   ],
   "source": [
    "data = filmsdata.runtime, filmsdata.profit\n",
    "ht = CorrelationPermute(data)\n",
    "pvalue = ht.PValue()"
   ]
  },
  {
   "cell_type": "markdown",
   "metadata": {},
   "source": [
    "The reported p-value is 0, which means that in 1000 trials we didn't see a correlation, under the null hypothesis, that exceeded the observed correlation. That means that the p-value is probably smaller than  1/1000, but it is not actually 0."
   ]
  },
  {
   "cell_type": "markdown",
   "metadata": {},
   "source": [
    "To get a sense of how unexpected the observed value is under the null hypothesis, we can compare the actual correlation to the largest value we saw in the simulations."
   ]
  },
  {
   "cell_type": "code",
   "execution_count": 466,
   "metadata": {},
   "outputs": [
    {
     "data": {
      "text/plain": [
       "(0.20515003442108085, 0.06697756646440245)"
      ]
     },
     "execution_count": 466,
     "metadata": {},
     "output_type": "execute_result"
    }
   ],
   "source": [
    "ht.actual, ht.MaxTestStat()"
   ]
  },
  {
   "cell_type": "markdown",
   "metadata": {},
   "source": [
    "Next I will fit a multiple regression model, using profit as my dependent variable and budget + vote_average as a the independent variables."
   ]
  },
  {
   "cell_type": "code",
   "execution_count": 459,
   "metadata": {},
   "outputs": [
    {
     "name": "stdout",
     "output_type": "stream",
     "text": [
      "                            OLS Regression Results                            \n",
      "==============================================================================\n",
      "Dep. Variable:       filmsdata.profit   R-squared:                       0.363\n",
      "Model:                            OLS   Adj. R-squared:                  0.363\n",
      "Method:                 Least Squares   F-statistic:                     581.4\n",
      "Date:                Sat, 11 Aug 2018   Prob (F-statistic):          5.65e-299\n",
      "Time:                        15:56:53   Log-Likelihood:                -61518.\n",
      "No. Observations:                3062   AIC:                         1.230e+05\n",
      "Df Residuals:                    3058   BIC:                         1.231e+05\n",
      "Df Model:                           3                                         \n",
      "Covariance Type:            nonrobust                                         \n",
      "==========================================================================================\n",
      "                             coef    std err          t      P>|t|      [0.025      0.975]\n",
      "------------------------------------------------------------------------------------------\n",
      "Intercept              -3.096e+08   1.89e+07    -16.391      0.000   -3.47e+08   -2.73e+08\n",
      "filmsdata.budget           2.0296      0.054     37.676      0.000       1.924       2.135\n",
      "filmsdata.vote_average   5.26e+07    3.1e+06     16.983      0.000    4.65e+07    5.87e+07\n",
      "filmsdata.runtime      -2.229e+05   1.25e+05     -1.779      0.075   -4.69e+05    2.28e+04\n",
      "==============================================================================\n",
      "Omnibus:                     2370.444   Durbin-Watson:                   1.588\n",
      "Prob(Omnibus):                  0.000   Jarque-Bera (JB):           125833.804\n",
      "Skew:                           3.198   Prob(JB):                         0.00\n",
      "Kurtosis:                      33.747   Cond. No.                     5.05e+08\n",
      "==============================================================================\n",
      "\n",
      "Warnings:\n",
      "[1] Standard Errors assume that the covariance matrix of the errors is correctly specified.\n",
      "[2] The condition number is large, 5.05e+08. This might indicate that there are\n",
      "strong multicollinearity or other numerical problems.\n"
     ]
    }
   ],
   "source": [
    "formula = 'filmsdata.profit ~ filmsdata.budget + filmsdata.vote_average'\n",
    "model = smf.ols(formula, data =filmsdata)\n",
    "results = model.fit()\n",
    "print(results.summary())"
   ]
  },
  {
   "cell_type": "markdown",
   "metadata": {},
   "source": [
    "This is a fairly weak model with an R-squared value of 0.363. Next, I will add runtime to my independent variables to see if the quality of my model improves."
   ]
  },
  {
   "cell_type": "code",
   "execution_count": 460,
   "metadata": {},
   "outputs": [
    {
     "name": "stdout",
     "output_type": "stream",
     "text": [
      "                            OLS Regression Results                            \n",
      "==============================================================================\n",
      "Dep. Variable:       filmsdata.profit   R-squared:                       0.363\n",
      "Model:                            OLS   Adj. R-squared:                  0.362\n",
      "Method:                 Least Squares   F-statistic:                     869.8\n",
      "Date:                Sat, 11 Aug 2018   Prob (F-statistic):          8.24e-300\n",
      "Time:                        15:58:25   Log-Likelihood:                -61519.\n",
      "No. Observations:                3062   AIC:                         1.230e+05\n",
      "Df Residuals:                    3059   BIC:                         1.231e+05\n",
      "Df Model:                           2                                         \n",
      "Covariance Type:            nonrobust                                         \n",
      "==========================================================================================\n",
      "                             coef    std err          t      P>|t|      [0.025      0.975]\n",
      "------------------------------------------------------------------------------------------\n",
      "Intercept              -3.185e+08   1.82e+07    -17.488      0.000   -3.54e+08   -2.83e+08\n",
      "filmsdata.budget           2.0040      0.052     38.595      0.000       1.902       2.106\n",
      "filmsdata.vote_average  5.027e+07   2.81e+06     17.900      0.000    4.48e+07    5.58e+07\n",
      "==============================================================================\n",
      "Omnibus:                     2357.639   Durbin-Watson:                   1.590\n",
      "Prob(Omnibus):                  0.000   Jarque-Bera (JB):           123209.493\n",
      "Skew:                           3.176   Prob(JB):                         0.00\n",
      "Kurtosis:                      33.420   Cond. No.                     4.89e+08\n",
      "==============================================================================\n",
      "\n",
      "Warnings:\n",
      "[1] Standard Errors assume that the covariance matrix of the errors is correctly specified.\n",
      "[2] The condition number is large, 4.89e+08. This might indicate that there are\n",
      "strong multicollinearity or other numerical problems.\n"
     ]
    }
   ],
   "source": [
    "formula = 'filmsdata.profit ~ filmsdata.budget + filmsdata.vote_average'\n",
    "model = smf.ols(formula, data =filmsdata)\n",
    "results = model.fit()\n",
    "print(results.summary())"
   ]
  },
  {
   "cell_type": "markdown",
   "metadata": {},
   "source": [
    "Here, we see that the quality of our model did not improve at all. So, I will use the first model instead."
   ]
  },
  {
   "cell_type": "markdown",
   "metadata": {},
   "source": [
    "With this analysis, we can confirm my initial hypothesis that we create a strong, yet incomplete model from the data in the Kaggle TMDB 5000 Movie dataset. This is evidenced by the multiple regression model's R-squared value. This value provides a measure of how well the model as a whole explains the values of the dependent variable. Therefore, our model explains over 36% of the variation in a film's profit. Since models with more features always explain more variation, the adjusted R-squared value corrects R-squared by penalizing models with a large number of independent variables. For our model, R-squared and adjusted R-squared values are pretty much the same.\n",
    "\n",
    "This analysis allows us to conclude that that runtime and quality, denoted by it’s average rating, don’t have a meaningful relationship on the film’s financial success, but the film’s budget does have a significant impact. Therefore, it can be said that to maximize ones profitability, one must make a significant investment in terms of budget. However, if you are to make a smart investment, then more must be known regarding the film in question, since our model only predicts at most a mediocre amount of the variability in the film’s financial success."
   ]
  }
 ],
 "metadata": {
  "kernelspec": {
   "display_name": "Python 3",
   "language": "python",
   "name": "python3"
  },
  "language_info": {
   "codemirror_mode": {
    "name": "ipython",
    "version": 3
   },
   "file_extension": ".py",
   "mimetype": "text/x-python",
   "name": "python",
   "nbconvert_exporter": "python",
   "pygments_lexer": "ipython3",
   "version": "3.6.4"
  }
 },
 "nbformat": 4,
 "nbformat_minor": 2
}
